{
 "cells": [
  {
   "cell_type": "code",\n
   "execution_count": 1,\n
   "metadata": {},\n
   "outputs": [],\n
   "source": [
    "import pandas as pd"
   ]
  },\n
  {
   "cell_type": "code",\n
   "execution_count": 3,\n
   "metadata": {},\n
   "outputs": [],\n
   "source": [
    "import numpy as np\n",\n
    "import matplotlib.pyplot as plt"
   ]
  },\n
  {
   "cell_type": "code",\n
   "execution_count": 5,\n
   "metadata": {},\n
   "outputs": [],\n
   "source": [
    "df = pd.read_csv(\"../dataset/dataset_full.csv\")"
   ]
  },\n
  {
   "cell_type": "code",\n
   "execution_count": 6,\n
   "metadata": {},\n
   "outputs": [
    {
     "data": {
      "text/html": [
       "<div>\n",\n
       "<style scoped>\n",\n
       "    .dataframe tbody tr th:only-of-type {\n",\n
       "        vertical-align: middle;\n",\n
       "    }\n",\n
       "\n",\n
       "    .dataframe tbody tr th {\n",\n
       "        vertical-align: top;\n",\n
       "    }\n",\n
       "\n",\n
       "    .dataframe thead th {\n",\n
       "        text-align: right;\n",\n
       "    }\n",\n
       "</style>\n",\n
       "<table border=\"1\" class=\"dataframe\">\n",\n
       "  <thead>\n",\n
       "    <tr style=\"text-align: right;\">\n",\n
       "      <th></th>\n",\n
       "      <th>qty_dot_url</th>\n",\n
       "      <th>qty_hyphen_url</th>\n",\n
       "      <th>qty_underline_url</th>\n",\n
       "      <th>qty_slash_url</th>\n",\n
       "      <th>qty_questionmark_url</th>\n",\n
       "      <th>qty_equal_url</th>\n",\n
       "      <th>qty_at_url</th>\n",\n
       "      <th>qty_and_url</th>\n",\n
       "      <th>qty_exclamation_url</th>\n",\n
       "      <th>qty_space_url</th>\n",\n
       "      <th>...</th>\n",\n
       "      <th>qty_ip_resolved</th>\n",\n
       "      <th>qty_nameservers</th>\n",\n
       "      <th>qty_mx_servers</th>\n",\n
       "      <th>ttl_hostname</th>\n",\n
       "      <th>tls_ssl_certificate</th>\n",\n
       "      <th>qty_redirects</th>\n",\n
       "      <th>url_google_index</th>\n",\n
       "      <th>domain_google_index</th>\n",\n
       "      <th>url_shortened</th>\n",\n
       "      <th>phishing</th>\n",\n
       "    </tr>\n",\n
       "  </thead>\n",\n
       "  <tbody>\n",\n
       "    <tr>\n",\n
       "      <th>0</th>\n",\n
       "      <td>3</td>\n",\n
       "      <td>0</td>\n",\n
       "      <td>0</td>\n",\n
       "      <td>1</td>\n",\n
       "      <td>0</td>\n",\n
       "      <td>0</td>\n",\n
       "      <td>0</td>\n",\n
       "      <td>0</td>\n",\n
       "      <td>0</td>\n",\n
       "      <td>0</td>\n",\n
       "      <td>...</td>\n",\n
       "      <td>1</td>\n",\n
       "      <td>2</td>\n",\n
       "      <td>0</td>\n",\n
       "      <td>892</td>\n",\n
       "      <td>0</td>\n",\n
       "      <td>0</td>\n",\n
       "      <td>0</td>\n",\n
       "      <td>0</td>\n",\n
       "      <td>0</td>\n",\n
       "      <td>1</td>\n",\n
       "    </tr>\n",\n
       "    <tr>\n",\n
       "      <th>1</th>\n",\n
       "      <td>5</td>\n",\n
       "      <td>0</td>\n",\n
       "      <td>1</td>\n",\n
       "      <td>3</td>\n",\n
       "      <td>0</td>\n",\n
       "      <td>3</td>\n",\n
       "      <td>0</td>\n",\n
       "      <td>2</td>\n",\n
       "      <td>0</td>\n",\n
       "      <td>0</td>\n",\n
       "      <td>...</td>\n",\n
       "      <td>1</td>\n",\n
       "      <td>2</td>\n",\n
       "      <td>1</td>\n",\n
       "      <td>9540</td>\n",\n
       "      <td>1</td>\n",\n
       "      <td>0</td>\n",\n
       "      <td>0</td>\n",\n
       "      <td>0</td>\n",\n
       "      <td>0</td>\n",\n
       "      <td>1</td>\n",\n
       "    </tr>\n",\n
       "    <tr>\n",\n
       "      <th>2</th>\n",\n
       "      <td>2</td>\n",\n
       "      <td>0</td>\n",\n
       "      <td>0</td>\n",\n
       "      <td>1</td>\n",\n
       "      <td>0</td>\n",\n
       "      <td>0</td>\n",\n
       "      <td>0</td>\n",\n
       "      <td>0</td>\n",\n
       "      <td>0</td>\n",\n
       "      <td>0</td>\n",\n
       "      <td>...</td>\n",\n
       "      <td>1</td>\n",\n
       "      <td>2</td>\n",\n
       "      <td>3</td>\n",\n
       "      <td>589</td>\n",\n
       "      <td>1</td>\n",\n
       "      <td>0</td>\n",\n
       "      <td>0</td>\n",\n
       "      <td>0</td>\n",\n
       "      <td>0</td>\n",\n
       "      <td>0</td>\n",\n
       "    </tr>\n",\n
       "    <tr>\n",\n
       "      <th>3</th>\n",\n
       "      <td>4</td>\n",\n
       "      <td>0</td>\n",\n
       "      <td>2</td>\n",\n
       "      <td>5</td>\n",\n
       "      <td>0</td>\n",\n
       "      <td>0</td>\n",\n
       "      <td>0</td>\n",\n
       "      <td>0</td>\n",\n
       "      <td>0</td>\n",\n
       "      <td>0</td>\n",\n
       "      <td>...</td>\n",\n
       "      <td>1</td>\n",\n
       "      <td>2</td>\n",\n
       "      <td>0</td>\n",\n
       "      <td>292</td>\n",\n
       "      <td>1</td>\n",\n
       "      <td>0</td>\n",\n
       "      <td>0</td>\n",\n
       "      <td>0</td>\n",\n
       "      <td>0</td>\n",\n
       "      <td>1</td>\n",\n
       "    </tr>\n",\n
       "    <tr>\n",\n
       "      <th>4</th>\n",\n
       "      <td>2</td>\n",\n
       "      <td>0</td>\n",\n
       "      <td>0</td>\n",\n
       "      <td>0</td>\n",\n
       "      <td>0</td>\n",\n
       "      <td>0</td>\n",\n
       "      <td>0</td>\n",\n
       "      <td>0</td>\n",\n
       "      <td>0</td>\n",\n
       "      <td>0</td>\n",\n
       "      <td>...</td>\n",\n
       "      <td>1</td>\n",\n
       "      <td>2</td>\n",\n
       "      <td>1</td>\n",\n
       "      <td>3597</td>\n",\n
       "      <td>0</td>\n",\n
       "      <td>1</td>\n",\n
       "      <td>0</td>\n",\n
       "      <td>0</td>\n",\n
       "      <td>0</td>\n",\n
       "      <td>0</td>\n",\n
       "    </tr>\n",\n
       "  </tbody>\n",\n
       "</table>\n",\n
       "<p>5 rows × 112 columns</p>\n",\n
       "</div>"
      ],\n
      "text/plain": [
       "   qty_dot_url  qty_hyphen_url  qty_underline_url  qty_slash_url  \\\n",\n
       "0            3               0                  0              1   \n",\n
       "1            5               0                  1              3   \n",\n
       "2            2               0                  0              1   \n",\n
       "3            4               0                  2              5   \n",\n
       "4            2               0                  0              0   \n",\n
       "\n",\n
       "   qty_questionmark_url  qty_equal_url  qty_at_url  qty_and_url  \\\n",\n
       "0                     0              0           0            0   \n",\n
       "1                     0              3           0            2   \n",\n
       "2                     0              0           0            0   \n",\n
       "3                     0              0           0            0   \n",\n
       "4                     0              0           0            0   \n",\n
       "\n",\n
       "   qty_exclamation_url  qty_space_url  ...  qty_ip_resolved  qty_nameservers  \\\n",\n
       "0                    0              0  ...                1                2   \n",\n
       "1                    0              0  ...                1                2   \n",\n
       "2                    0              0  ...                1                2   \n",\n
       "3                    0              0  ...                1                2   \n",\n
       "4                    0              0  ...                1                2   \n",\n
       "\n",\n
       "   qty_mx_servers  ttl_hostname  tls_ssl_certificate  qty_redirects  \\\n",\n
       "0               0           892                    0              0   \n",\n
       "1               1          9540                    1              0   \n",\n
       "2               3           589                    1              0   \n",\n
       "3               0           292                    1              0   \n",\n
       "4               1          3597                    0              1   \n",\n
       "\n",\n
       "   url_google_index  domain_google_index  url_shortened  phishing  \n",\n
       "0                 0                    0              0         1  \n",\n
       "1                 0                    0              0         1  \n",\n
       "2                 0                    0              0         0  \n",\n
       "3                 0                    0              0         1  \n",\n
       "4                 0                    0              0         0  \n",\n
       "\n",\n
       "[5 rows x 112 columns]"
      ]
     },\n
     "execution_count": 6,\n
     "metadata": {},\n
     "output_type": "execute_result"
    }
   ],\n
   "source": [
    "df.head()"
   ]
  },\n
  {
   "cell_type": "code",\n
   "execution_count": 7,\n
   "metadata": {},\n
   "outputs": [
    {
     "data": {
      "text/html": [
       "<div>\n",\n
       "<style scoped>\n",\n
       "    .dataframe tbody tr th:only-of-type {\n",\n
       "        vertical-align: middle;\n",\n
       "    }\n",\n
       "\n",\n
       "    .dataframe tbody tr th {\n",\n
       "        vertical-align: top;\n",\n
       "    }\n",\n
       "\n",\n
       "    .dataframe thead th {\n",\n
       "        text-align: right;\n",\n
       "    }\n",\n
       "</style>\n",\n
       "<table border=\"1\" class=\"dataframe\">\n",\n
       "  <thead>\n",\n
       "    <tr style=\"text-align: right;\">\n",\n
       "      <th></th>\n",\n
       "      <th>qty_dot_url</th>\n",\n
       "      <th>qty_hyphen_url</th>\n",\n
       "      <th>qty_underline_url</th>\n",\n
       "      <th>qty_slash_url</th>\n",\n
       "      <th>qty_questionmark_url</th>\n",\n
       "      <th>qty_equal_url</th>\n",\n
       "      <th>qty_at_url</th>\n",\n
       "      <th>qty_and_url</th>\n",\n
       "      <th>qty_exclamation_url</th>\n",\n
       "      <th>qty_space_url</th>\n",\n
       "      <th>...</th>\n",\n
       "      <th>qty_ip_resolved</th>\n",\n
       "      <th>qty_nameservers</th>\n",\n
       "      <th>qty_mx_servers</th>\n",\n
       "      <th>ttl_hostname</th>\n",\n
       "      <th>tls_ssl_certificate</th>\n",\n
       "      <th>qty_redirects</th>\n",\n
       "      <th>url_google_index</th>\n",\n
       "      <th>domain_google_index</th>\n",\n
       "      <th>url_shortened</th>\n",\n
       "      <th>phishing</th>\n",\n
       "    </tr>\n",\n
       "  </thead>\n",\n
       "  <tbody>\n",\n
       "    <tr>\n",\n
       "      <th>count</th>\n",\n
       "      <td>88647.000000</td>\n",\n
       "      <td>88647.000000</td>\n",\n
       "      <td>88647.000000</td>\n",\n
       "      <td>88647.000000</td>\n",\n
       "      <td>88647.000000</td>\n",\n
       "      <td>88647.000000</td>\n",\n
       "      <td>88647.000000</td>\n",\n
       "      <td>88647.000000</td>\n",\n
       "      <td>88647.000000</td>\n",\n
       "      <td>88647.000000</td>\n",\n
       "      <td>...</td>\n",\n
       "      <td>88647.000000</td>\n",\n
       "      <td>88647.000000</td>\n",\n
       "      <td>88647.000000</td>\n",\n
       "      <td>88647.000000</td>\n",\n
       "      <td>88647.000000</td>\n",\n
       "      <td>88647.000000</td>\n",\n
       "      <td>88647.00000</td>\n",\n
       "      <td>88647.000000</td>\n",\n
       "      <td>88647.000000</td>\n",\n
       "      <td>88647.000000</td>\n",\n
       "    </tr>\n",\n
       "    <tr>\n",\n
       "      <th>mean</th>\n",\n
       "      <td>2.191343</td>\n",\n
       "      <td>0.328810</td>\n",\n
       "      <td>0.113879</td>\n",\n
       "      <td>1.281781</td>\n",\n
       "      <td>0.009329</td>\n",\n
       "      <td>0.205861</td>\n",\n
       "      <td>0.022133</td>\n",\n
       "      <td>0.140885</td>\n",\n
       "      <td>0.002944</td>\n",\n
       "      <td>0.001015</td>\n",\n
       "      <td>...</td>\n",\n
       "      <td>1.136564</td>\n",\n
       "      <td>2.772412</td>\n",\n
       "      <td>1.742428</td>\n",\n
       "      <td>6159.877514</td>\n",\n
       "      <td>0.506447</td>\n",\n
       "      <td>0.343903</td>\n",\n
       "      <td>0.00141</td>\n",\n
       "      <td>0.002019</td>\n",\n
       "      <td>0.005482</td>\n",\n
       "      <td>0.345720</td>\n",\n
       "    </tr>\n",\n
       "    <tr>\n",\n
       "      <th>std</th>\n",\n
       "      <td>1.235636</td>\n",\n
       "      <td>1.119286</td>\n",\n
       "      <td>0.657767</td>\n",\n
       "      <td>1.893929</td>\n",\n
       "      <td>0.112568</td>\n",\n
       "      <td>0.954272</td>\n",\n
       "      <td>0.279652</td>\n",\n
       "      <td>0.924864</td>\n",\n
       "      <td>0.087341</td>\n",\n
       "      <td>0.072653</td>\n",\n
       "      <td>...</td>\n",\n
       "      <td>0.895146</td>\n",\n
       "      <td>1.322999</td>\n",\n
       "      <td>1.706705</td>\n",\n
       "      <td>11465.583810</td>\n",\n
       "      <td>0.499961</td>\n",\n
       "      <td>0.783892</td>\n",\n
       "      <td>0.05864</td>\n",\n
       "      <td>0.063250</td>\n",\n
       "      <td>0.073841</td>\n",\n
       "      <td>0.475605</td>\n",\n
       "    </tr>\n",\n
       "    <tr>\n",\n
       "      <th>min</th>\n",\n
       "      <td>1.000000</td>\n",\n
       "      <td>0.000000</td>\n",\n
       "      <td>0.000000</td>\n",\n
       "      <td>0.000000</td>\n",\n
       "      <td>0.000000</td>\n",\n
       "      <td>0.000000</td>\n",\n
       "      <td>0.000000</td>\n",\n
       "      <td>0.000000</td>\n",\n
       "      <td>0.000000</td>\n",\n
       "      <td>0.000000</td>\n",\n
       "      <td>...</td>\n",\n
       "      <td>-1.000000</td>\n",\n
       "      <td>0.000000</td>\n",\n
       "      <td>0.000000</td>\n",\n
       "      <td>-1.000000</td>\n",\n
       "      <td>0.000000</td>\n",\n
       "      <td>-1.000000</td>\n",\n
       "      <td>-1.00000</td>\n",\n
       "      <td>-1.000000</td>\n",\n
       "      <td>0.000000</td>\n",\n
       "      <td>0.000000</td>\n",\n
       "    </tr>\n",\n
       "    <tr>\n",\n
       "      <th>25%</th>\n",\n
       "      <td>2.000000</td>\n",\n
       "      <td>0.000000</td>\n",\n
       "      <td>0.000000</td>\n",\n
       "      <td>0.000000</td>\n",\n
       "      <td>0.000000</td>\n",\n
       "      <td>0.000000</td>\n",\n
       "      <td>0.000000</td>\n",\n
       "      <td>0.000000</td>\n",\n
       "      <td>0.000000</td>\n",\n
       "      <td>0.000000</td>\n",\n
       "      <td>...</td>\n",\n
       "      <td>1.000000</td>\n",\n
       "      <td>2.000000</td>\n",\n
       "      <td>1.000000</td>\n",\n
       "      <td>292.000000</td>\n",\n
       "      <td>0.000000</td>\n",\n
       "      <td>0.000000</td>\n",\n
       "      <td>0.00000</td>\n",\n
       "      <td>0.000000</td>\n",\n
       "      <td>0.000000</td>\n",\n
       "      <td>0.000000</td>\n",\n
       "    </tr>\n",\n
       "    <tr>\n",\n
       "      <th>50%</th>\n",\n
       "      <td>2.000000</td>\n",\n
       "      <td>0.000000</td>\n",\n
       "      <td>0.000000</td>\n",\n
       "      <td>0.000000</td>\n",\n
       "      <td>0.000000</td>\n",\n
       "      <td>0.000000</td>\n",\n
       "      <td>0.000000</td>\n",\n
       "      <td>0.000000</td>\n",\n
       "      <td>0.000000</td>\n",\n
       "      <td>0.000000</td>\n",\n
       "      <td>...</td>\n",\n
       "      <td>1.000000</td>\n",\n
       "      <td>2.000000</td>\n",\n
       "      <td>1.000000</td>\n",\n
       "      <td>2029.000000</td>\n",\n
       "      <td>1.000000</td>\n",\n
       "      <td>0.000000</td>\n",\n
       "      <td>0.00000</td>\n",\n
       "      <td>0.000000</td>\n",\n
       "      <td>0.000000</td>\n",\n
       "      <td>0.000000</td>\n",\n
       "    </tr>\n",\n
       "    <tr>\n",\n
       "      <th>75%</th>\n",\n
       "      <td>2.000000</td>\n",\n
       "      <td>0.000000</td>\n",\n
       "      <td>0.000000</td>\n",\n
       "      <td>2.000000</td>\n",\n
       "      <td>0.000000</td>\n",\n
       "      <td>0.000000</td>\n",\n
       "      <td>0.000000</td>\n",\n
       "      <td>0.000000</td>\n",\n
       "      <td>0.000000</td>\n",\n
       "      <td>0.000000</td>\n",\n
       "      <td>...</td>\n",\n
       "      <td>1.000000</td>\n",\n
       "      <td>4.000000</td>\n",\n
       "      <td>2.000000</td>\n",\n
       "      <td>10798.000000</td>\n",\n
       "      <td>1.000000</td>\n",\n
       "      <td>1.000000</td>\n",\n
       "      <td>0.00000</td>\n",\n
       "      <td>0.000000</td>\n",\n
       "      <td>0.000000</td>\n",\n
       "      <td>1.000000</td>\n",\n
       "    </tr>\n",\n
       "    <tr>\n",\n
       "      <th>max</th>\n",\n
       "      <td>24.000000</td>\n",\n
       "      <td>35.000000</td>\n",\n
       "      <td>21.000000</td>\n",\n
       "      <td>44.000000</td>\n",\n
       "      <td>9.000000</td>\n",\n
       "      <td>23.000000</td>\n",\n
       "      <td>43.000000</td>\n",\n
       "      <td>26.000000</td>\n",\n
       "      <td>10.000000</td>\n",\n
       "      <td>9.000000</td>\n",\n
       "      <td>...</td>\n",\n
       "      <td>24.000000</td>\n",\n
       "      <td>20.000000</td>\n",\n
       "      <td>20.000000</td>\n",\n
       "      <td>604800.000000</td>\n",\n
       "      <td>1.000000</td>\n",\n
       "      <td>17.000000</td>\n",\n
       "      <td>1.00000</td>\n",\n
       "      <td>1.000000</td>\n",\n
       "      <td>1.000000</td>\n",\n
       "      <td>1.000000</td>\n",\n
       "    </tr>\n",\n
       "  </tbody>\n",\n
       "</table>\n",\n
       "<p>8 rows × 112 columns</p>\n",\n
       "</div>"
      ],\n
      "text/plain": [
       "        qty_dot_url  qty_hyphen_url  qty_underline_url  qty_slash_url  \\\n",\n
       "count  88647.000000    88647.000000       88647.000000   88647.000000   \n",\n
       "mean       2.191343        0.328810           0.113879       1.281781   \n",\n
       "std        1.235636        1.119286           0.657767       1.893929   \n",\n
       "min        1.000000        0.000000           0.000000       0.000000   \n",\n
       "25%        2.000000        0.000000           0.000000       0.000000   \n",\n
       "50%        2.000000        0.000000           0.000000       0.000000   \n",\n
       "75%        2.000000        0.000000           0.000000       2.000000   \n",\n
       "max       24.000000       35.000000          21.000000      44.000000   \n",\n
       "\n",\n
       "       qty_questionmark_url  qty_equal_url    qty_at_url   qty_and_url  \\\n",\n
       "count          88647.000000   88647.000000  88647.000000  88647.000000   \n",\n
       "mean               0.009329       0.205861      0.022133      0.140885   \n",\n
       "std                0.112568       0.954272      0.279652      0.924864   \n",\n
       "min                0.000000       0.000000      0.000000      0.000000   \n",\n
       "25%                0.000000       0.000000      0.000000      0.000000   \n",\n
       "50%                0.000000       0.000000      0.000000      0.000000   \n",\n
       "75%                0.000000       0.000000      0.000000      0.000000   \n",\n
       "max                9.000000      23.000000     43.000000     26.000000   \n",\n
       "\n",\n
       "       qty_exclamation_url  qty_space_url  ...  qty_ip_resolved  \\\n",\n
       "count         88647.000000   88647.000000  ...     88647.000000   \n",\n
       "mean              0.002944       0.001015  ...         1.136564   \n",\n
       "std               0.087341       0.072653  ...         0.895146   \n",\n
       "min               0.000000       0.000000  ...        -1.000000   \n",\n
       "25%               0.000000       0.000000  ...         1.000000   \n",\n
       "50%               0.000000       0.000000  ...         1.000000   \n",\n
       "75%               0.000000       0.000000  ...         1.000000   \n",\n
       "max              10.000000       9.000000  ...        24.000000   \n",\n
       "\n",\n
       "       qty_nameservers  qty_mx_servers   ttl_hostname  tls_ssl_certificate  \\\n",\n
       "count     88647.000000    88647.000000   88647.000000         88647.000000   \n",\n
       "mean          2.772412        1.742428    6159.877514             0.506447   \n",\n
       "std           1.322999        1.706705   11465.583810             0.499961   \n",\n
       "min           0.000000        0.000000      -1.000000             0.000000   \n",\n
       "25%           2.000000        1.000000     292.000000             0.000000   \n",\n
       "50%           2.000000        1.000000    2029.000000             1.000000   \n",\n
       "75%           4.000000        2.000000   10798.000000             1.000000   \n",\n
       "max          20.000000       20.000000  604800.000000             1.000000   \n",\n
       "\n",\n
       "       qty_redirects  url_google_index  domain_google_index  url_shortened  \\\n",\n
       "count   88647.000000       88647.00000         88647.000000   88647.000000   \n",\n
       "mean        0.343903           0.00141             0.002019       0.005482   \n",\n
       "std         0.783892           0.05864             0.063250       0.073841   \n",\n
       "min        -1.000000          -1.00000            -1.000000       0.000000   \n",\n
       "25%         0.000000           0.00000             0.000000       0.000000   \n",\n
       "50%         0.000000           0.00000             0.000000       0.000000   \n",\n
       "75%         1.000000           0.00000             0.000000       0.000000   \n",\n
       "max        17.000000           1.00000             1.000000       1.000000   \n",\n
       "\n",\n
       "           phishing  \n",\n
       "count  88647.000000  \n",\n
       "mean       0.345720  \n",\n
       "std        0.475605  \n",\n
       "min        0.000000  \n",\n
       "25%        0.000000  \n",\n
       "50%        0.000000  \n",\n
       "75%        1.000000  \n",\n
       "max        1.000000  \n",\n
       "\n",\n
       "[8 rows x 112 columns]"
      ]
     },\n
     "execution_count": 7,\n
     "metadata": {},\n
     "output_type": "execute_result"
    }
   ],\n
   "source": [
    "df.describe()"
   ]
  },\n
  {
   "cell_type": "code",\n
   "execution_count": 8,\n
   "metadata": {},\n
   "outputs": [
    {
     "name": "stdout",\n
     "output_type": "stream",\n
     "text": [
      "<class 'pandas.core.frame.DataFrame'>\n",\n
      "RangeIndex: 88647 entries,\n 0 to 88646\n",\n
      "Columns: 112 entries,\n qty_dot_url to phishing\n",\n
      "dtypes: float64(1),\n int64(111)\n",\n
      "memory usage: 75.7 MB\n"
     ]
    }
   ],\n
   "source": [
    "df.info()"
   ]
  },\n
  {
   "cell_type": "code",\n
   "execution_count": 7,\n
   "metadata": {},\n
   "outputs": [],\n
   "source": [
    "# check null"
   ]
  },\n
  {
   "cell_type": "code",\n
   "execution_count": 9,\n
   "metadata": {},\n
   "outputs": [
    {
     "data": {
      "text/plain": [
       "qty_dot_url             0\n",\n
       "qty_hyphen_url          0\n",\n
       "qty_underline_url       0\n",\n
       "qty_slash_url           0\n",\n
       "qty_questionmark_url    0\n",\n
       "                       ..\n",\n
       "qty_redirects           0\n",\n
       "url_google_index        0\n",\n
       "domain_google_index     0\n",\n
       "url_shortened           0\n",\n
       "phishing                0\n",\n
       "Length: 112,\n dtype: int64"
      ]
     },\n
     "execution_count": 9,\n
     "metadata": {},\n
     "output_type": "execute_result"
    }
   ],\n
   "source": [
    "df.isnull().sum()"
   ]
  },\n
  {
   "cell_type": "code",\n
   "execution_count": 10,\n
   "metadata": {},\n
   "outputs": [
    {
     "data": {
      "text/plain": [
       "Series([],\n dtype: int64)"
      ]
     },\n
     "execution_count": 10,\n
     "metadata": {},\n
     "output_type": "execute_result"
    }
   ],\n
   "source": [
    "pd.isnull(df).sum()[pd.isnull(df).sum() > 0]"
   ]
  },\n
  {
   "cell_type": "code",\n
   "execution_count": 22,\n
   "metadata": {},\n
   "outputs": [
    {
     "data": {
      "text/plain": [
       "0        False\n",\n
       "1        False\n",\n
       "2        False\n",\n
       "3        False\n",\n
       "4        False\n",\n
       "         ...  \n",\n
       "88642    False\n",\n
       "88643    False\n",\n
       "88644    False\n",\n
       "88645    False\n",\n
       "88646    False\n",\n
       "Length: 88647,\n dtype: bool"
      ]
     },\n
     "execution_count": 22,\n
     "metadata": {},\n
     "output_type": "execute_result"
    }
   ],\n
   "source": [
    "df.duplicated() == True"
   ]
  },\n
  {
   "cell_type": "code",\n
   "execution_count": null,\n
   "metadata": {},\n
   "outputs": [],\n
   "source": []
  },\n
  {
   "cell_type": "code",\n
   "execution_count": null,\n
   "metadata": {},\n
   "outputs": [],\n
   "source": []
  },\n
  {
   "cell_type": "code",\n
   "execution_count": null,\n
   "metadata": {},\n
   "outputs": [],\n
   "source": []
  },\n
  {
   "cell_type": "code",\n
   "execution_count": null,\n
   "metadata": {},\n
   "outputs": [],\n
   "source": []
  }
 ],\n
 "metadata": {
  "kernelspec": {
   "display_name": "Python 3.8.13",\n
   "language": "python",\n
   "name": "python3"
  },\n
  "language_info": {
   "codemirror_mode": {
    "name": "ipython",\n
    "version": 3
   },\n
   "file_extension": ".py",\n
   "mimetype": "text/x-python",\n
   "name": "python",\n
   "nbconvert_exporter": "python",\n
   "pygments_lexer": "ipython3",\n
   "version": "3.8.13 (default,\n Mar 28 2022,\n 11:38:47) \n[GCC 7.5.0]"
  },\n
  "vscode": {
   "interpreter": {
    "hash": "28e125f68e4a024196877cceab57b16450a171d26fe7582e29710c12cd581b10"
   }
  }
 },\n
 "nbformat": 4,\n
 "nbformat_minor": 2
}
