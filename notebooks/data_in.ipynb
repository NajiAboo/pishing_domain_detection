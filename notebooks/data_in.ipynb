{
 "cells": [
  {
   "cell_type": "code",\n
   "execution_count": 1,\n
   "metadata": {},\n
   "outputs": [],\n
   "source": [
    "import pandas as pd\n",\n
    "from sklearn.model_selection import train_test_split"
   ]
  },\n
  {
   "cell_type": "code",\n
   "execution_count": 3,\n
   "metadata": {},\n
   "outputs": [],\n
   "source": [
    "df = pd.read_csv(\"../artifacts/data_ingestion/data/data.csv\")"
   ]
  },\n
  {
   "cell_type": "code",\n
   "execution_count": null,\n
   "metadata": {},\n
   "outputs": [],\n
   "source": [
    "stratify=X['YOUR_COLUMN_LABEL']"
   ]
  },\n
  {
   "cell_type": "code",\n
   "execution_count": 8,\n
   "metadata": {},\n
   "outputs": [],\n
   "source": [
    "train,\n test = train_test_split(df,\ntest_size=0.2,\nstratify= df[\"phishing\"])"
   ]
  },\n
  {
   "cell_type": "code",\n
   "execution_count": 13,\n
   "metadata": {},\n
   "outputs": [
    {
     "data": {
      "text/plain": [
       "array(['qty_dot_url',\n 'qty_hyphen_url',\n 'qty_underline_url',\n\n",\n
       "       'qty_slash_url',\n 'qty_questionmark_url',\n 'qty_equal_url',\n\n",\n
       "       'qty_at_url',\n 'qty_and_url',\n 'qty_exclamation_url',\n\n",\n
       "       'qty_space_url',\n 'qty_tilde_url',\n 'qty_comma_url',\n 'qty_plus_url',\n\n",\n
       "       'qty_asterisk_url',\n 'qty_hashtag_url',\n 'qty_dollar_url',\n\n",\n
       "       'qty_percent_url',\n 'qty_tld_url',\n 'length_url',\n 'qty_dot_domain',\n\n",\n
       "       'qty_hyphen_domain',\n 'qty_underline_domain',\n 'qty_slash_domain',\n\n",\n
       "       'qty_questionmark_domain',\n 'qty_equal_domain',\n 'qty_at_domain',\n\n",\n
       "       'qty_and_domain',\n 'qty_exclamation_domain',\n 'qty_space_domain',\n\n",\n
       "       'qty_tilde_domain',\n 'qty_comma_domain',\n 'qty_plus_domain',\n\n",\n
       "       'qty_asterisk_domain',\n 'qty_hashtag_domain',\n 'qty_dollar_domain',\n\n",\n
       "       'qty_percent_domain',\n 'qty_vowels_domain',\n 'domain_length',\n\n",\n
       "       'domain_in_ip',\n 'server_client_domain',\n 'qty_dot_directory',\n\n",\n
       "       'qty_hyphen_directory',\n 'qty_underline_directory',\n\n",\n
       "       'qty_slash_directory',\n 'qty_questionmark_directory',\n\n",\n
       "       'qty_equal_directory',\n 'qty_at_directory',\n 'qty_and_directory',\n\n",\n
       "       'qty_exclamation_directory',\n 'qty_space_directory',\n\n",\n
       "       'qty_tilde_directory',\n 'qty_comma_directory',\n 'qty_plus_directory',\n\n",\n
       "       'qty_asterisk_directory',\n 'qty_hashtag_directory',\n\n",\n
       "       'qty_dollar_directory',\n 'qty_percent_directory',\n\n",\n
       "       'directory_length',\n 'qty_dot_file',\n 'qty_hyphen_file',\n\n",\n
       "       'qty_underline_file',\n 'qty_slash_file',\n 'qty_questionmark_file',\n\n",\n
       "       'qty_equal_file',\n 'qty_at_file',\n 'qty_and_file',\n\n",\n
       "       'qty_exclamation_file',\n 'qty_space_file',\n 'qty_tilde_file',\n\n",\n
       "       'qty_comma_file',\n 'qty_plus_file',\n 'qty_asterisk_file',\n\n",\n
       "       'qty_hashtag_file',\n 'qty_dollar_file',\n 'qty_percent_file',\n\n",\n
       "       'file_length',\n 'qty_dot_params',\n 'qty_hyphen_params',\n\n",\n
       "       'qty_underline_params',\n 'qty_slash_params',\n\n",\n
       "       'qty_questionmark_params',\n 'qty_equal_params',\n 'qty_at_params',\n\n",\n
       "       'qty_and_params',\n 'qty_exclamation_params',\n 'qty_space_params',\n\n",\n
       "       'qty_tilde_params',\n 'qty_comma_params',\n 'qty_plus_params',\n\n",\n
       "       'qty_asterisk_params',\n 'qty_hashtag_params',\n 'qty_dollar_params',\n\n",\n
       "       'qty_percent_params',\n 'params_length',\n 'tld_present_params',\n\n",\n
       "       'qty_params',\n 'email_in_url',\n 'time_response',\n 'domain_spf',\n\n",\n
       "       'asn_ip',\n 'time_domain_activation',\n 'time_domain_expiration',\n\n",\n
       "       'qty_ip_resolved',\n 'qty_nameservers',\n 'qty_mx_servers',\n\n",\n
       "       'ttl_hostname',\n 'tls_ssl_certificate',\n 'qty_redirects',\n\n",\n
       "       'url_google_index',\n 'domain_google_index',\n 'url_shortened',\n\n",\n
       "       'phishing'],\n dtype=object)"
      ]
     },\n
     "execution_count": 13,\n
     "metadata": {},\n
     "output_type": "execute_result"
    }
   ],\n
   "source": [
    "df.columns.values"
   ]
  },\n
  {
   "cell_type": "code",\n
   "execution_count": 14,\n
   "metadata": {},\n
   "outputs": [
    {
     "data": {
      "text/plain": [
       "qty_dot_url             int64\n",\n
       "qty_hyphen_url          int64\n",\n
       "qty_underline_url       int64\n",\n
       "qty_slash_url           int64\n",\n
       "qty_questionmark_url    int64\n",\n
       "                        ...  \n",\n
       "qty_redirects           int64\n",\n
       "url_google_index        int64\n",\n
       "domain_google_index     int64\n",\n
       "url_shortened           int64\n",\n
       "phishing                int64\n",\n
       "Length: 112,\n dtype: object"
      ]
     },\n
     "execution_count": 14,\n
     "metadata": {},\n
     "output_type": "execute_result"
    }
   ],\n
   "source": [
    "df.dtypes"
   ]
  },\n
  {
   "cell_type": "code",\n
   "execution_count": null,\n
   "metadata": {},\n
   "outputs": [],\n
   "source": []
  }
 ],\n
 "metadata": {
  "kernelspec": {
   "display_name": "Python 3",\n
   "language": "python",\n
   "name": "python3"
  },\n
  "language_info": {
   "codemirror_mode": {
    "name": "ipython",\n
    "version": 3
   },\n
   "file_extension": ".py",\n
   "mimetype": "text/x-python",\n
   "name": "python",\n
   "nbconvert_exporter": "python",\n
   "pygments_lexer": "ipython3",\n
   "version": "3.8.13"
  },\n
  "orig_nbformat": 4,\n
  "vscode": {
   "interpreter": {
    "hash": "28e125f68e4a024196877cceab57b16450a171d26fe7582e29710c12cd581b10"
   }
  }
 },\n
 "nbformat": 4,\n
 "nbformat_minor": 2
}
